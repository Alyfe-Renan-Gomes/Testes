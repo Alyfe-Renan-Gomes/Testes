{
 "cells": [
  {
   "cell_type": "markdown",
   "id": "7aa47a03",
   "metadata": {},
   "source": [
    "# Bibliotecas que e funções que serão utilizadas"
   ]
  },
  {
   "cell_type": "code",
   "execution_count": 1,
   "id": "4a70dd77",
   "metadata": {},
   "outputs": [],
   "source": [
    "import os.path\n",
    "import os\n",
    "import gc\n",
    "import pathlib\n",
    "import glob\n",
    "import PIL\n",
    "import cv2\n",
    "import pandas as pd\n",
    "import numpy as np\n",
    "import matplotlib.pyplot as plt\n",
    "import tensorflow as tf\n",
    "import PIL as p\n",
    "import random\n",
    "#=====================================================================================================================#\n",
    "from PIL import Image\n",
    "#=====================================================================================================================#\n",
    "%matplotlib inline\n",
    "#=====================================================================================================================#\n",
    "from tensorflow import keras\n",
    "from tensorflow.keras import layers\n",
    "from tensorflow.keras.applications import ResNet50\n",
    "from tensorflow.keras.models import Sequential\n",
    "from tensorflow.keras.layers import Dense, Dropout, Flatten\n",
    "from tensorflow.keras import applications\n",
    "from tensorflow.keras.models import Model\n",
    "from tensorflow.keras import optimizers\n",
    "from tensorflow.keras.preprocessing.image import ImageDataGenerator\n",
    "from tensorflow.keras.preprocessing import image\n",
    "from tensorflow.keras.optimizers import Adam\n",
    "#=====================================================================================================================#\n",
    "from sklearn.model_selection import StratifiedKFold , KFold\n",
    "from sklearn.model_selection import train_test_split\n",
    "from sklearn.metrics import accuracy_score"
   ]
  },
  {
   "cell_type": "markdown",
   "id": "76010af2",
   "metadata": {},
   "source": [
    "# Separando as imagens do banco em duas categorias"
   ]
  },
  {
   "cell_type": "code",
   "execution_count": 2,
   "id": "8fb4bdb9",
   "metadata": {},
   "outputs": [],
   "source": [
    "def rotaciona(image,img_size):\n",
    "    \n",
    "    angulos=[90,180,-90]     #Ângulos comuns de rotação que podem aparecer\n",
    "    random.shuffle(angulos)  #Torna aleatório a escolha do 1º ângulo. Este passo será importante para os códigos seguintes\n",
    "             \n",
    "    im2 = Image.open(image).convert('L')\n",
    "    im2 = im2.resize((img_size,img_size))\n",
    "    \n",
    "    #Rotacionando a imagem com um dos ângulos dados. A escolha é do ângulo é aleatória\n",
    "    im2=im2.rotate(angulos[0], PIL.Image.NEAREST, expand = 1)        \n",
    "    \n",
    "    return im2"
   ]
  },
  {
   "cell_type": "code",
   "execution_count": 3,
   "id": "0a0de40e",
   "metadata": {},
   "outputs": [],
   "source": [
    "img_path = 'C:\\\\Users\\\\Alyfe Renan Gomes\\\\Programação\\\\Código da IC'\n",
    "\n",
    "imagens_banco = list(filter(lambda x: True if x.endswith('png') else False,os.listdir(img_path)))\n",
    "\n",
    "random.shuffle(imagens_banco)\n",
    "\n",
    "Rotaciona = imagens_banco[:int((len(imagens_banco)+1)*.5)]\n",
    "Nao_Rotaciona = imagens_banco[int((len(imagens_banco)+1)*.5):]"
   ]
  },
  {
   "cell_type": "code",
   "execution_count": null,
   "id": "1feccb2a",
   "metadata": {},
   "outputs": [],
   "source": [
    "img_size = 180\n",
    "\n",
    "#Guardando as imagens rotacionadas\n",
    "for index, image in enumerate(Rotaciona):\n",
    "    identificador=image[7:13]\n",
    "    rotaciona_path= f'C:\\\\Users\\\\Alyfe Renan Gomes\\\\Programação\\\\Código da IC\\\\Teste de Rotação\\\\Com rotacao\\\\{identificador}'\n",
    "    image = rotaciona(image,img_size)\n",
    "    \n",
    "    image.save(rotaciona_path+\".png\")\n",
    "\n",
    "#Guardando as imagens não rotacionadas    \n",
    "for index, image in enumerate(Nao_Rotaciona):\n",
    "    identificador=image[0:13]\n",
    "    nao_rotaciona_path= f'C:\\\\Users\\\\Alyfe Renan Gomes\\\\Programação\\\\Código da IC\\\\Teste de Rotação\\\\Sem rotacao\\\\{identificador}'\n",
    "    \n",
    "    im2 = Image.open(image).convert('L')\n",
    "    im2 = im2.resize((img_size,img_size))\n",
    "    \n",
    "    im2.save(nao_rotaciona_path+\".png\")"
   ]
  },
  {
   "cell_type": "markdown",
   "id": "00fb7946",
   "metadata": {},
   "source": [
    "# ============================================================="
   ]
  },
  {
   "cell_type": "markdown",
   "id": "f96b7f22",
   "metadata": {},
   "source": [
    "# Pegando os dados"
   ]
  },
  {
   "cell_type": "code",
   "execution_count": 4,
   "id": "920b2934",
   "metadata": {},
   "outputs": [],
   "source": [
    "data_dir2 = 'C:\\\\Users\\\\Alyfe Renan Gomes\\\\Programação\\\\Código da IC\\\\Teste de Rotação'\n",
    "data_dir2 = pathlib.Path(data_dir2)"
   ]
  },
  {
   "cell_type": "code",
   "execution_count": 5,
   "id": "eb1eb0ed",
   "metadata": {},
   "outputs": [
    {
     "name": "stdout",
     "output_type": "stream",
     "text": [
      "323 324\n"
     ]
    }
   ],
   "source": [
    "#Definindo função útil\n",
    "def get_images(Rot_path,SemRot_path):\n",
    "    \"Função que retorna duas listas: uma com as imagens rotacionadas e a outra com imagens sem rotação\"\n",
    "    \n",
    "    Rot_images= list(filter(lambda x: True if x.endswith('png') else False,os.listdir(Rot_path)))\n",
    "    NRot_images = list(filter(lambda x: True if x.endswith('png') else False,os.listdir(SemRot_path)))\n",
    "    \n",
    "    return Rot_images, NRot_images\n",
    "\n",
    "#=====================================================================================================================#\n",
    "\n",
    "#Caso desejado utilizar a função, modifique para o path no qual as imagens estão.\n",
    "Rot_path=r'C:\\\\Users\\\\Alyfe Renan Gomes\\\\Programação\\\\Código da IC\\\\Teste de Rotação\\\\Com rotacao'\n",
    "SemRot_path=r'C:\\\\Users\\\\Alyfe Renan Gomes\\\\Programação\\\\Código da IC\\\\Teste de Rotação\\\\Sem rotacao'\n",
    "\n",
    "Rot1, Sem_Rot1 = get_images(Rot_path,SemRot_path)\n",
    "\n",
    "\n",
    "print(len(Sem_Rot1), len(Rot1))"
   ]
  },
  {
   "cell_type": "code",
   "execution_count": 6,
   "id": "1417eaf6",
   "metadata": {
    "scrolled": true
   },
   "outputs": [
    {
     "name": "stdout",
     "output_type": "stream",
     "text": [
      "C:\\Users\\Alyfe Renan Gomes\\Programação\\Código da IC\\Teste de Rotação\\Sem rotacao\\CHNCXR_0001_0.png\n",
      "C:\\Users\\Alyfe Renan Gomes\\Programação\\Código da IC\\Teste de Rotação\\Com rotacao\\0002_0.png\n"
     ]
    }
   ],
   "source": [
    "Sem_Rot = list(data_dir2.glob('Sem rotacao/*'))\n",
    "print(Sem_Rot[0])\n",
    "\n",
    "Rot = list(data_dir2.glob('Com rotacao/*'))\n",
    "print(Rot[0])\n",
    "\n",
    "#PIL.Image.open(str(cxr[0]))"
   ]
  },
  {
   "cell_type": "markdown",
   "id": "c694032b",
   "metadata": {},
   "source": [
    "# ============================================================="
   ]
  },
  {
   "cell_type": "markdown",
   "id": "7e4f3a3e",
   "metadata": {},
   "source": [
    "# Definindo dados de teste e validação"
   ]
  },
  {
   "cell_type": "code",
   "execution_count": 7,
   "id": "fa60ff9e",
   "metadata": {},
   "outputs": [
    {
     "name": "stdout",
     "output_type": "stream",
     "text": [
      "Found 647 files belonging to 2 classes.\n",
      "Using 583 files for training.\n"
     ]
    }
   ],
   "source": [
    "#Separando os dados para teste\n",
    "IMG_SIZE=180\n",
    "batch_size=25\n",
    "train_ds = tf.keras.preprocessing.image_dataset_from_directory(\n",
    "  data_dir2,\n",
    "  label_mode='categorical', \n",
    "  validation_split=0.1,\n",
    "  subset=\"training\",\n",
    "  seed=123,\n",
    "  image_size=(IMG_SIZE, IMG_SIZE),\n",
    "  batch_size=batch_size)"
   ]
  },
  {
   "cell_type": "code",
   "execution_count": 8,
   "id": "c138700e",
   "metadata": {},
   "outputs": [
    {
     "name": "stdout",
     "output_type": "stream",
     "text": [
      "Found 647 files belonging to 2 classes.\n",
      "Using 64 files for validation.\n"
     ]
    }
   ],
   "source": [
    "#Separando os dados para validação\n",
    "val_ds = tf.keras.preprocessing.image_dataset_from_directory(\n",
    "  data_dir2,\n",
    "  validation_split=0.1,\n",
    "  label_mode='categorical', \n",
    "  subset=\"validation\",\n",
    "  seed=123,\n",
    "  image_size=(IMG_SIZE, IMG_SIZE),\n",
    "  batch_size=batch_size)"
   ]
  },
  {
   "cell_type": "code",
   "execution_count": 9,
   "id": "db124703",
   "metadata": {
    "scrolled": true
   },
   "outputs": [
    {
     "name": "stdout",
     "output_type": "stream",
     "text": [
      "['Com rotacao', 'Sem rotacao']\n"
     ]
    }
   ],
   "source": [
    "#Identificando as classes\n",
    "class_names=train_ds.class_names\n",
    "print(class_names)"
   ]
  },
  {
   "cell_type": "markdown",
   "id": "aade260f",
   "metadata": {},
   "source": [
    "# ============================================================="
   ]
  },
  {
   "cell_type": "markdown",
   "id": "52cdca21",
   "metadata": {},
   "source": [
    "# Treinando o modelo"
   ]
  },
  {
   "cell_type": "code",
   "execution_count": 14,
   "id": "ab306fab",
   "metadata": {},
   "outputs": [],
   "source": [
    "#Função útil\n",
    "def get_model(IMG_SIZE):\n",
    "    \n",
    "    model = Sequential()\n",
    "    \n",
    "    base_model =applications.ResNet50(weights='imagenet', include_top=False, input_shape=(IMG_SIZE, IMG_SIZE, 3))\n",
    "    for layer in base_model.layers:\n",
    "        layer.trainable=False\n",
    "    \n",
    "    model.add(base_model)\n",
    "    model.add(Flatten())\n",
    "    \n",
    "    model.add(Dense(10, activation='relu'))\n",
    "    model.add(Dropout(0.5))\n",
    "\n",
    "    model.add(Dense(2, activation='softmax'))\n",
    "\n",
    "    model.compile(loss='categorical_crossentropy', optimizer=optimizers.SGD(learning_rate=1e-4, momentum=0.9),\n",
    "                  metrics=['accuracy'])\n",
    "    return model"
   ]
  },
  {
   "cell_type": "code",
   "execution_count": 15,
   "id": "d71ddb42",
   "metadata": {},
   "outputs": [
    {
     "name": "stdout",
     "output_type": "stream",
     "text": [
      "Model: \"sequential_3\"\n",
      "_________________________________________________________________\n",
      " Layer (type)                Output Shape              Param #   \n",
      "=================================================================\n",
      " resnet50 (Functional)       (None, 6, 6, 2048)        23587712  \n",
      "                                                                 \n",
      " flatten_1 (Flatten)         (None, 73728)             0         \n",
      "                                                                 \n",
      " dense (Dense)               (None, 10)                737290    \n",
      "                                                                 \n",
      " dropout (Dropout)           (None, 10)                0         \n",
      "                                                                 \n",
      " dense_1 (Dense)             (None, 2)                 22        \n",
      "                                                                 \n",
      "=================================================================\n",
      "Total params: 24,325,024\n",
      "Trainable params: 737,312\n",
      "Non-trainable params: 23,587,712\n",
      "_________________________________________________________________\n",
      "Epoch 1/10\n",
      "24/24 [==============================] - 69s 3s/step - loss: 0.4785 - accuracy: 0.7822 - val_loss: 0.0168 - val_accuracy: 1.0000\n",
      "Epoch 2/10\n",
      "24/24 [==============================] - 62s 3s/step - loss: 0.1493 - accuracy: 0.9280 - val_loss: 0.0057 - val_accuracy: 1.0000\n",
      "Epoch 3/10\n",
      "24/24 [==============================] - 51s 2s/step - loss: 0.1604 - accuracy: 0.9383 - val_loss: 0.0052 - val_accuracy: 1.0000\n",
      "Epoch 4/10\n",
      "24/24 [==============================] - 52s 2s/step - loss: 0.1330 - accuracy: 0.9571 - val_loss: 0.0042 - val_accuracy: 1.0000\n",
      "Epoch 5/10\n",
      "24/24 [==============================] - 57s 2s/step - loss: 0.1064 - accuracy: 0.9726 - val_loss: 0.0032 - val_accuracy: 1.0000\n",
      "Epoch 6/10\n",
      "24/24 [==============================] - 55s 2s/step - loss: 0.1398 - accuracy: 0.9468 - val_loss: 0.0029 - val_accuracy: 1.0000\n",
      "Epoch 7/10\n",
      "24/24 [==============================] - 56s 2s/step - loss: 0.1101 - accuracy: 0.9743 - val_loss: 0.0027 - val_accuracy: 1.0000\n",
      "Epoch 8/10\n",
      "24/24 [==============================] - 56s 2s/step - loss: 0.1198 - accuracy: 0.9588 - val_loss: 0.0025 - val_accuracy: 1.0000\n",
      "Epoch 9/10\n",
      "24/24 [==============================] - 58s 2s/step - loss: 0.1032 - accuracy: 0.9674 - val_loss: 0.0022 - val_accuracy: 1.0000\n",
      "Epoch 10/10\n",
      "24/24 [==============================] - 57s 2s/step - loss: 0.1220 - accuracy: 0.9691 - val_loss: 0.0019 - val_accuracy: 1.0000\n"
     ]
    }
   ],
   "source": [
    "resnet_model = get_model(IMG_SIZE)\n",
    "\n",
    "resnet_model.summary()  #Visualizando o que foi criado\n",
    "\n",
    "#=====================================================================================================================#\n",
    "\n",
    "#Realizando o treinamento\n",
    "epochs=10\n",
    "history = resnet_model.fit(train_ds, validation_data=val_ds, epochs=epochs)"
   ]
  },
  {
   "cell_type": "code",
   "execution_count": 16,
   "id": "9343d9f2",
   "metadata": {
    "scrolled": true
   },
   "outputs": [
    {
     "data": {
      "image/png": "[encoded data removed]",
      "text/plain": [
       "<Figure size 432x288 with 1 Axes>"
      ]
     },
     "metadata": {
      "needs_background": "light"
     },
     "output_type": "display_data"
    }
   ],
   "source": [
    "#Avaliando o modelo\n",
    "fig1 = plt.gcf()\n",
    "plt.plot(history.history['accuracy'])\n",
    "plt.plot(history.history['val_accuracy'])\n",
    "plt.axis(ymin=0.4,ymax=1)\n",
    "plt.grid()\n",
    "plt.title('Model Accuracy')\n",
    "plt.ylabel('Accuracy')\n",
    "plt.xlabel('Epochs')\n",
    "plt.legend(['train', 'validation'])\n",
    "plt.show()"
   ]
  },
  {
   "cell_type": "markdown",
   "id": "9876366c",
   "metadata": {},
   "source": [
    "# ============================================================="
   ]
  },
  {
   "cell_type": "markdown",
   "id": "8f60c5b0",
   "metadata": {},
   "source": [
    "# Fazendo previsões"
   ]
  },
  {
   "cell_type": "code",
   "execution_count": 18,
   "id": "e750701b",
   "metadata": {},
   "outputs": [],
   "source": [
    "import cv2\n",
    "image=cv2.imread('CHNCXR_0501_1.png')\n",
    "#[CHNCXR_0083_0,CHNCXR_0145_0,CHNCXR_0131_0 -> CHNCXR_0122_0] / [CHNCXR_0625_1,CHNCXR_0609_1,CHNCXR_0568_1 -> CHNCXR_0644_1]\n",
    "image_resized= cv2.resize(image, (IMG_SIZE,IMG_SIZE))\n",
    "image=np.expand_dims(image_resized,axis=0)"
   ]
  },
  {
   "cell_type": "code",
   "execution_count": 19,
   "id": "3d2acdf2",
   "metadata": {
    "scrolled": true
   },
   "outputs": [
    {
     "name": "stdout",
     "output_type": "stream",
     "text": [
      "[[5.002379e-07 9.999995e-01]]\n"
     ]
    }
   ],
   "source": [
    "pred=resnet_model.predict(image)\n",
    "print(pred)"
   ]
  },
  {
   "cell_type": "code",
   "execution_count": 20,
   "id": "f68b0db5",
   "metadata": {
    "scrolled": true
   },
   "outputs": [
    {
     "name": "stdout",
     "output_type": "stream",
     "text": [
      "Predição:  Sem rotacao\n"
     ]
    }
   ],
   "source": [
    "output_class=class_names[np.argmax(pred)]\n",
    "print(\"Predição: \", output_class)"
   ]
  },
  {
   "cell_type": "markdown",
   "id": "5abfc6e1",
   "metadata": {},
   "source": [
    "# ============================================================="
   ]
  },
  {
   "cell_type": "markdown",
   "id": "b6f38585",
   "metadata": {},
   "source": [
    "# Aplicando Cross-Validation"
   ]
  },
  {
   "cell_type": "markdown",
   "id": "9ac3fb63",
   "metadata": {},
   "source": [
    "### Gerando um dataframe com as imagens"
   ]
  },
  {
   "cell_type": "code",
   "execution_count": 24,
   "id": "5b4e8e30",
   "metadata": {
    "scrolled": true
   },
   "outputs": [
    {
     "name": "stdout",
     "output_type": "stream",
     "text": [
      "323 324\n"
     ]
    }
   ],
   "source": [
    "#Definindo meu path\n",
    "images_path=r'C:\\\\Users\\\\Alyfe Renan Gomes\\\\Programação\\\\Código da IC\\\\Teste de Rotação\\\\Sem rotacao'\n",
    "Sem_Rot1 = list(filter(lambda x: True if x.endswith('png') else False,os.listdir(images_path)))\n",
    "\n",
    "images_path2=r'C:\\\\Users\\\\Alyfe Renan Gomes\\\\Programação\\\\Código da IC\\\\Teste de Rotação\\\\Com rotacao'\n",
    "Rot1 = list(filter(lambda x: True if x.endswith('png') else False,os.listdir(images_path2)))\n",
    "\n",
    "print(len(Sem_Rot1),len(Rot1))"
   ]
  },
  {
   "cell_type": "code",
   "execution_count": 25,
   "id": "46fe677e",
   "metadata": {},
   "outputs": [],
   "source": [
    "#Construindo as linhas e colunas do meu dataframe\n",
    "auxiliar1=Sem_Rot1\n",
    "for image in Rot1:\n",
    "    auxiliar1.append(image)\n",
    "\n",
    "auxiliar2=[\"Sem rotacao\"]*323\n",
    "\n",
    "for i in [\"Com rotacao\"]*324:\n",
    "    auxiliar2.append(i)"
   ]
  },
  {
   "cell_type": "code",
   "execution_count": 26,
   "id": "af81aa66",
   "metadata": {},
   "outputs": [
    {
     "data": {
      "text/plain": [
       "323"
      ]
     },
     "execution_count": 26,
     "metadata": {},
     "output_type": "execute_result"
    }
   ],
   "source": [
    "len(Nao_Rotaciona)"
   ]
  },
  {
   "cell_type": "code",
   "execution_count": 27,
   "id": "e2e8c48f",
   "metadata": {},
   "outputs": [
    {
     "name": "stdout",
     "output_type": "stream",
     "text": [
      "647 647\n"
     ]
    }
   ],
   "source": [
    "print(len(auxiliar1),len(auxiliar2))"
   ]
  },
  {
   "cell_type": "code",
   "execution_count": 28,
   "id": "dad0cea6",
   "metadata": {},
   "outputs": [
    {
     "data": {
      "text/html": [
       "<div>\n",
       "<style scoped>\n",
       "    .dataframe tbody tr th:only-of-type {\n",
       "        vertical-align: middle;\n",
       "    }\n",
       "\n",
       "    .dataframe tbody tr th {\n",
       "        vertical-align: top;\n",
       "    }\n",
       "\n",
       "    .dataframe thead th {\n",
       "        text-align: right;\n",
       "    }\n",
       "</style>\n",
       "<table border=\"1\" class=\"dataframe\">\n",
       "  <thead>\n",
       "    <tr style=\"text-align: right;\">\n",
       "      <th></th>\n",
       "      <th>Image</th>\n",
       "      <th>Class</th>\n",
       "    </tr>\n",
       "  </thead>\n",
       "  <tbody>\n",
       "    <tr>\n",
       "      <th>0</th>\n",
       "      <td>CHNCXR_0001_0.png</td>\n",
       "      <td>Sem rotacao</td>\n",
       "    </tr>\n",
       "    <tr>\n",
       "      <th>1</th>\n",
       "      <td>CHNCXR_0004_0.png</td>\n",
       "      <td>Sem rotacao</td>\n",
       "    </tr>\n",
       "    <tr>\n",
       "      <th>2</th>\n",
       "      <td>CHNCXR_0005_0.png</td>\n",
       "      <td>Sem rotacao</td>\n",
       "    </tr>\n",
       "    <tr>\n",
       "      <th>3</th>\n",
       "      <td>CHNCXR_0008_0.png</td>\n",
       "      <td>Sem rotacao</td>\n",
       "    </tr>\n",
       "    <tr>\n",
       "      <th>4</th>\n",
       "      <td>CHNCXR_0009_0.png</td>\n",
       "      <td>Sem rotacao</td>\n",
       "    </tr>\n",
       "    <tr>\n",
       "      <th>...</th>\n",
       "      <td>...</td>\n",
       "      <td>...</td>\n",
       "    </tr>\n",
       "    <tr>\n",
       "      <th>642</th>\n",
       "      <td>0653_1.png</td>\n",
       "      <td>Com rotacao</td>\n",
       "    </tr>\n",
       "    <tr>\n",
       "      <th>643</th>\n",
       "      <td>0655_1.png</td>\n",
       "      <td>Com rotacao</td>\n",
       "    </tr>\n",
       "    <tr>\n",
       "      <th>644</th>\n",
       "      <td>0657_1.png</td>\n",
       "      <td>Com rotacao</td>\n",
       "    </tr>\n",
       "    <tr>\n",
       "      <th>645</th>\n",
       "      <td>0660_1.png</td>\n",
       "      <td>Com rotacao</td>\n",
       "    </tr>\n",
       "    <tr>\n",
       "      <th>646</th>\n",
       "      <td>0661_1.png</td>\n",
       "      <td>Com rotacao</td>\n",
       "    </tr>\n",
       "  </tbody>\n",
       "</table>\n",
       "<p>647 rows × 2 columns</p>\n",
       "</div>"
      ],
      "text/plain": [
       "                 Image        Class\n",
       "0    CHNCXR_0001_0.png  Sem rotacao\n",
       "1    CHNCXR_0004_0.png  Sem rotacao\n",
       "2    CHNCXR_0005_0.png  Sem rotacao\n",
       "3    CHNCXR_0008_0.png  Sem rotacao\n",
       "4    CHNCXR_0009_0.png  Sem rotacao\n",
       "..                 ...          ...\n",
       "642         0653_1.png  Com rotacao\n",
       "643         0655_1.png  Com rotacao\n",
       "644         0657_1.png  Com rotacao\n",
       "645         0660_1.png  Com rotacao\n",
       "646         0661_1.png  Com rotacao\n",
       "\n",
       "[647 rows x 2 columns]"
      ]
     },
     "execution_count": 28,
     "metadata": {},
     "output_type": "execute_result"
    }
   ],
   "source": [
    "#Criando o dataframe com as imagens relacionando elas com as suas respectivas classes\n",
    "df=pd.DataFrame()\n",
    "df['Image']=list(auxiliar1)\n",
    "df['Class']=list(auxiliar2)\n",
    "df"
   ]
  },
  {
   "cell_type": "code",
   "execution_count": 29,
   "id": "82e440cb",
   "metadata": {},
   "outputs": [],
   "source": [
    "df.to_csv('train.csv', index = False)\n",
    "train=pd.read_csv('train.csv')"
   ]
  },
  {
   "cell_type": "code",
   "execution_count": 73,
   "id": "a4e5045a",
   "metadata": {},
   "outputs": [],
   "source": [
    "# Iremos dividir o dataset\n",
    "df = train.copy()"
   ]
  },
  {
   "cell_type": "markdown",
   "id": "7333f5d0",
   "metadata": {},
   "source": [
    "### Pegando os dados"
   ]
  },
  {
   "cell_type": "code",
   "execution_count": 30,
   "id": "073736b3",
   "metadata": {},
   "outputs": [],
   "source": [
    "TRAIN_PATH = 'C:\\\\Users\\\\Alyfe Renan Gomes\\\\Programação\\\\Código da IC\\\\Teste de Rotação\\\\Train'"
   ]
  },
  {
   "cell_type": "markdown",
   "id": "0e79a629",
   "metadata": {},
   "source": [
    "### Preparando os Kfolds"
   ]
  },
  {
   "cell_type": "code",
   "execution_count": 31,
   "id": "5737ab65",
   "metadata": {},
   "outputs": [],
   "source": [
    "# Guardando a média de todas as predições\n",
    "\n",
    "main_pred = []\n",
    "error = []\n",
    "data_kfold = pd.DataFrame()"
   ]
  },
  {
   "cell_type": "code",
   "execution_count": 32,
   "id": "197cc9ad",
   "metadata": {},
   "outputs": [],
   "source": [
    "# Criando X,Y para treino\n",
    "\n",
    "train_y = df.Class\n",
    "train_x = df.drop(['Class'],axis=1)"
   ]
  },
  {
   "cell_type": "code",
   "execution_count": 35,
   "id": "4c7752b4",
   "metadata": {},
   "outputs": [],
   "source": [
    "IMG_SIZE = 180\n",
    "BATCH_SIZE = 25\n",
    "EPOCHS = 10\n",
    "N_SPLIT = 10"
   ]
  },
  {
   "cell_type": "markdown",
   "id": "fd0387fa",
   "metadata": {},
   "source": [
    "### Treino e predição"
   ]
  },
  {
   "cell_type": "code",
   "execution_count": 47,
   "id": "45c74513",
   "metadata": {},
   "outputs": [
    {
     "name": "stdout",
     "output_type": "stream",
     "text": [
      "Found 582 validated image filenames belonging to 2 classes.\n",
      "Found 65 validated image filenames belonging to 2 classes.\n",
      "Epoch 1/10\n",
      "23/23 [==============================] - 36s 1s/step - loss: 0.5720 - accuracy: 0.8312 - val_loss: 3.4277e-04 - val_accuracy: 1.0000\n",
      "Epoch 2/10\n",
      "23/23 [==============================] - 32s 1s/step - loss: 0.1422 - accuracy: 0.9210 - val_loss: 1.4598e-04 - val_accuracy: 1.0000\n",
      "Epoch 3/10\n",
      "23/23 [==============================] - 32s 1s/step - loss: 0.1372 - accuracy: 0.9497 - val_loss: 1.3757e-04 - val_accuracy: 1.0000\n",
      "Epoch 4/10\n",
      "23/23 [==============================] - 32s 1s/step - loss: 0.1165 - accuracy: 0.9336 - val_loss: 1.0421e-04 - val_accuracy: 1.0000\n",
      "Epoch 5/10\n",
      "23/23 [==============================] - 32s 1s/step - loss: 0.0999 - accuracy: 0.9497 - val_loss: 9.2065e-05 - val_accuracy: 1.0000\n",
      "Epoch 6/10\n",
      "23/23 [==============================] - 32s 1s/step - loss: 0.1249 - accuracy: 0.9515 - val_loss: 7.8078e-05 - val_accuracy: 1.0000\n",
      "Epoch 7/10\n",
      "23/23 [==============================] - 32s 1s/step - loss: 0.1282 - accuracy: 0.9533 - val_loss: 6.7789e-05 - val_accuracy: 1.0000\n",
      "Epoch 8/10\n",
      "23/23 [==============================] - 34s 1s/step - loss: 0.1127 - accuracy: 0.9551 - val_loss: 6.9490e-05 - val_accuracy: 1.0000\n",
      "Epoch 9/10\n",
      "23/23 [==============================] - 33s 1s/step - loss: 0.1212 - accuracy: 0.9443 - val_loss: 6.0059e-05 - val_accuracy: 1.0000\n",
      "Epoch 10/10\n",
      "23/23 [==============================] - 34s 1s/step - loss: 0.1145 - accuracy: 0.9479 - val_loss: 1.3839e-05 - val_accuracy: 1.0000\n",
      "Found 647 validated image filenames.\n",
      "Found 582 validated image filenames belonging to 2 classes.\n",
      "Found 65 validated image filenames belonging to 2 classes.\n",
      "Epoch 1/10\n",
      "23/23 [==============================] - 36s 1s/step - loss: 0.5288 - accuracy: 0.7217 - val_loss: 0.0092 - val_accuracy: 1.0000\n",
      "Epoch 2/10\n",
      "23/23 [==============================] - 32s 1s/step - loss: 0.1583 - accuracy: 0.9497 - val_loss: 6.3728e-05 - val_accuracy: 1.0000\n",
      "Epoch 3/10\n",
      "23/23 [==============================] - 32s 1s/step - loss: 0.1305 - accuracy: 0.9461 - val_loss: 2.6657e-05 - val_accuracy: 1.0000\n",
      "Epoch 4/10\n",
      "23/23 [==============================] - 33s 1s/step - loss: 0.1249 - accuracy: 0.9569 - val_loss: 3.5607e-05 - val_accuracy: 1.0000\n",
      "Epoch 5/10\n",
      "23/23 [==============================] - 36s 2s/step - loss: 0.1120 - accuracy: 0.9652 - val_loss: 1.1647e-04 - val_accuracy: 1.0000\n",
      "Epoch 6/10\n",
      "23/23 [==============================] - 33s 1s/step - loss: 0.1174 - accuracy: 0.9587 - val_loss: 2.0834e-05 - val_accuracy: 1.0000\n",
      "Epoch 7/10\n",
      "23/23 [==============================] - 32s 1s/step - loss: 0.1095 - accuracy: 0.9605 - val_loss: 1.2316e-05 - val_accuracy: 1.0000\n",
      "Epoch 8/10\n",
      "23/23 [==============================] - 35s 2s/step - loss: 0.0710 - accuracy: 0.9731 - val_loss: 5.1259e-06 - val_accuracy: 1.0000\n",
      "Epoch 9/10\n",
      "23/23 [==============================] - 33s 1s/step - loss: 0.0792 - accuracy: 0.9551 - val_loss: 3.4002e-06 - val_accuracy: 1.0000\n",
      "Epoch 10/10\n",
      "23/23 [==============================] - 33s 1s/step - loss: 0.0904 - accuracy: 0.9605 - val_loss: 2.5932e-06 - val_accuracy: 1.0000\n",
      "Found 647 validated image filenames.\n",
      "Found 582 validated image filenames belonging to 2 classes.\n",
      "Found 65 validated image filenames belonging to 2 classes.\n",
      "Epoch 1/10\n",
      "23/23 [==============================] - 35s 1s/step - loss: 0.4194 - accuracy: 0.8205 - val_loss: 0.0044 - val_accuracy: 1.0000\n",
      "Epoch 2/10\n",
      "23/23 [==============================] - 32s 1s/step - loss: 0.0901 - accuracy: 0.9749 - val_loss: 1.9218e-04 - val_accuracy: 1.0000\n",
      "Epoch 3/10\n",
      "23/23 [==============================] - 33s 1s/step - loss: 0.0708 - accuracy: 0.9695 - val_loss: 4.8146e-05 - val_accuracy: 1.0000\n",
      "Epoch 4/10\n",
      "23/23 [==============================] - 33s 1s/step - loss: 0.0717 - accuracy: 0.9785 - val_loss: 6.6051e-05 - val_accuracy: 1.0000\n",
      "Epoch 5/10\n",
      "23/23 [==============================] - 33s 1s/step - loss: 0.0567 - accuracy: 0.9838 - val_loss: 2.2622e-05 - val_accuracy: 1.0000\n",
      "Epoch 6/10\n",
      "23/23 [==============================] - 34s 1s/step - loss: 0.0448 - accuracy: 0.9856 - val_loss: 1.3243e-05 - val_accuracy: 1.0000\n",
      "Epoch 7/10\n",
      "23/23 [==============================] - 33s 1s/step - loss: 0.0474 - accuracy: 0.9856 - val_loss: 1.1052e-05 - val_accuracy: 1.0000\n",
      "Epoch 8/10\n",
      "23/23 [==============================] - 33s 1s/step - loss: 0.0576 - accuracy: 0.9820 - val_loss: 7.9021e-06 - val_accuracy: 1.0000\n",
      "Epoch 9/10\n",
      "23/23 [==============================] - 34s 1s/step - loss: 0.0509 - accuracy: 0.9820 - val_loss: 6.2518e-06 - val_accuracy: 1.0000\n",
      "Epoch 10/10\n",
      "23/23 [==============================] - 39s 2s/step - loss: 0.0502 - accuracy: 0.9838 - val_loss: 1.9166e-05 - val_accuracy: 1.0000\n",
      "Found 647 validated image filenames.\n",
      "Found 582 validated image filenames belonging to 2 classes.\n",
      "Found 65 validated image filenames belonging to 2 classes.\n",
      "Epoch 1/10\n",
      "23/23 [==============================] - 40s 2s/step - loss: 0.7287 - accuracy: 0.6212 - val_loss: 0.1907 - val_accuracy: 1.0000\n",
      "Epoch 2/10\n",
      "23/23 [==============================] - 36s 2s/step - loss: 0.3415 - accuracy: 0.8492 - val_loss: 0.0653 - val_accuracy: 1.0000\n",
      "Epoch 3/10\n",
      "23/23 [==============================] - 36s 2s/step - loss: 0.2966 - accuracy: 0.8492 - val_loss: 0.0537 - val_accuracy: 1.0000\n",
      "Epoch 4/10\n",
      "23/23 [==============================] - 32s 1s/step - loss: 0.2977 - accuracy: 0.8671 - val_loss: 0.0407 - val_accuracy: 1.0000\n",
      "Epoch 5/10\n",
      "23/23 [==============================] - 33s 1s/step - loss: 0.2921 - accuracy: 0.8330 - val_loss: 0.0369 - val_accuracy: 1.0000\n",
      "Epoch 6/10\n",
      "23/23 [==============================] - 32s 1s/step - loss: 0.2949 - accuracy: 0.8600 - val_loss: 0.0337 - val_accuracy: 1.0000\n",
      "Epoch 7/10\n",
      "23/23 [==============================] - 32s 1s/step - loss: 0.2966 - accuracy: 0.8366 - val_loss: 0.0296 - val_accuracy: 1.0000\n",
      "Epoch 8/10\n",
      "23/23 [==============================] - 32s 1s/step - loss: 0.2796 - accuracy: 0.8528 - val_loss: 0.0271 - val_accuracy: 1.0000\n",
      "Epoch 9/10\n",
      "23/23 [==============================] - 32s 1s/step - loss: 0.2479 - accuracy: 0.8797 - val_loss: 0.0234 - val_accuracy: 1.0000\n",
      "Epoch 10/10\n",
      "23/23 [==============================] - 32s 1s/step - loss: 0.2528 - accuracy: 0.8851 - val_loss: 0.0206 - val_accuracy: 1.0000\n",
      "Found 647 validated image filenames.\n",
      "Found 582 validated image filenames belonging to 2 classes.\n",
      "Found 65 validated image filenames belonging to 2 classes.\n",
      "Epoch 1/10\n",
      "23/23 [==============================] - 35s 1s/step - loss: 0.3697 - accuracy: 0.8474 - val_loss: 0.0032 - val_accuracy: 1.0000\n",
      "Epoch 2/10\n",
      "23/23 [==============================] - 32s 1s/step - loss: 0.1040 - accuracy: 0.9569 - val_loss: 8.7492e-05 - val_accuracy: 1.0000\n",
      "Epoch 3/10\n",
      "23/23 [==============================] - 32s 1s/step - loss: 0.0549 - accuracy: 0.9713 - val_loss: 5.5518e-05 - val_accuracy: 1.0000\n",
      "Epoch 4/10\n",
      "23/23 [==============================] - 32s 1s/step - loss: 0.0443 - accuracy: 0.9803 - val_loss: 3.2743e-05 - val_accuracy: 1.0000\n",
      "Epoch 5/10\n",
      "23/23 [==============================] - 32s 1s/step - loss: 0.0536 - accuracy: 0.9767 - val_loss: 2.5625e-05 - val_accuracy: 1.0000\n",
      "Epoch 6/10\n",
      "23/23 [==============================] - 32s 1s/step - loss: 0.0518 - accuracy: 0.9785 - val_loss: 2.8770e-05 - val_accuracy: 1.0000\n",
      "Epoch 7/10\n",
      "23/23 [==============================] - 32s 1s/step - loss: 0.0397 - accuracy: 0.9731 - val_loss: 2.8822e-05 - val_accuracy: 1.0000\n",
      "Epoch 8/10\n",
      "23/23 [==============================] - 32s 1s/step - loss: 0.0576 - accuracy: 0.9695 - val_loss: 4.2005e-05 - val_accuracy: 1.0000\n",
      "Epoch 9/10\n",
      "23/23 [==============================] - 32s 1s/step - loss: 0.0392 - accuracy: 0.9803 - val_loss: 3.7272e-05 - val_accuracy: 1.0000\n",
      "Epoch 10/10\n",
      "23/23 [==============================] - 32s 1s/step - loss: 0.0365 - accuracy: 0.9749 - val_loss: 2.9585e-05 - val_accuracy: 1.0000\n",
      "Found 647 validated image filenames.\n",
      "Found 582 validated image filenames belonging to 2 classes.\n",
      "Found 65 validated image filenames belonging to 2 classes.\n",
      "Epoch 1/10\n",
      "23/23 [==============================] - 35s 1s/step - loss: 0.5913 - accuracy: 0.8115 - val_loss: 0.0087 - val_accuracy: 1.0000\n",
      "Epoch 2/10\n"
     ]
    },
    {
     "name": "stdout",
     "output_type": "stream",
     "text": [
      "23/23 [==============================] - 32s 1s/step - loss: 0.1815 - accuracy: 0.9354 - val_loss: 0.0021 - val_accuracy: 1.0000\n",
      "Epoch 3/10\n",
      "23/23 [==============================] - 32s 1s/step - loss: 0.0824 - accuracy: 0.9731 - val_loss: 5.6628e-04 - val_accuracy: 1.0000\n",
      "Epoch 4/10\n",
      "23/23 [==============================] - 32s 1s/step - loss: 0.0958 - accuracy: 0.9731 - val_loss: 4.1585e-04 - val_accuracy: 1.0000\n",
      "Epoch 5/10\n",
      "23/23 [==============================] - 32s 1s/step - loss: 0.0681 - accuracy: 0.9767 - val_loss: 3.3743e-04 - val_accuracy: 1.0000\n",
      "Epoch 6/10\n",
      "23/23 [==============================] - 32s 1s/step - loss: 0.0694 - accuracy: 0.9803 - val_loss: 2.8695e-04 - val_accuracy: 1.0000\n",
      "Epoch 7/10\n",
      "23/23 [==============================] - 32s 1s/step - loss: 0.0821 - accuracy: 0.9713 - val_loss: 1.7557e-04 - val_accuracy: 1.0000\n",
      "Epoch 8/10\n",
      "23/23 [==============================] - 32s 1s/step - loss: 0.0634 - accuracy: 0.9767 - val_loss: 1.1526e-04 - val_accuracy: 1.0000\n",
      "Epoch 9/10\n",
      "23/23 [==============================] - 32s 1s/step - loss: 0.0528 - accuracy: 0.9892 - val_loss: 7.6979e-05 - val_accuracy: 1.0000\n",
      "Epoch 10/10\n",
      "23/23 [==============================] - 32s 1s/step - loss: 0.0809 - accuracy: 0.9803 - val_loss: 5.8579e-05 - val_accuracy: 1.0000\n",
      "Found 647 validated image filenames.\n",
      "Found 582 validated image filenames belonging to 2 classes.\n",
      "Found 65 validated image filenames belonging to 2 classes.\n",
      "Epoch 1/10\n",
      "23/23 [==============================] - 35s 1s/step - loss: 0.4907 - accuracy: 0.8043 - val_loss: 0.0043 - val_accuracy: 1.0000\n",
      "Epoch 2/10\n",
      "23/23 [==============================] - 32s 1s/step - loss: 0.1407 - accuracy: 0.9479 - val_loss: 9.8016e-04 - val_accuracy: 1.0000\n",
      "Epoch 3/10\n",
      "23/23 [==============================] - 32s 1s/step - loss: 0.1177 - accuracy: 0.9713 - val_loss: 2.3673e-04 - val_accuracy: 1.0000\n",
      "Epoch 4/10\n",
      "23/23 [==============================] - 32s 1s/step - loss: 0.1309 - accuracy: 0.9605 - val_loss: 7.2739e-05 - val_accuracy: 1.0000\n",
      "Epoch 5/10\n",
      "23/23 [==============================] - 33s 1s/step - loss: 0.1012 - accuracy: 0.9856 - val_loss: 1.4511e-05 - val_accuracy: 1.0000\n",
      "Epoch 6/10\n",
      "23/23 [==============================] - 32s 1s/step - loss: 0.1167 - accuracy: 0.9731 - val_loss: 1.1383e-05 - val_accuracy: 1.0000\n",
      "Epoch 7/10\n",
      "23/23 [==============================] - 32s 1s/step - loss: 0.0969 - accuracy: 0.9803 - val_loss: 2.1748e-05 - val_accuracy: 1.0000\n",
      "Epoch 8/10\n",
      "23/23 [==============================] - 32s 1s/step - loss: 0.1059 - accuracy: 0.9910 - val_loss: 1.2422e-05 - val_accuracy: 1.0000\n",
      "Epoch 9/10\n",
      "23/23 [==============================] - 32s 1s/step - loss: 0.0972 - accuracy: 0.9874 - val_loss: 1.2352e-05 - val_accuracy: 1.0000\n",
      "Epoch 10/10\n",
      "23/23 [==============================] - 32s 1s/step - loss: 0.0946 - accuracy: 0.9856 - val_loss: 5.7909e-06 - val_accuracy: 1.0000\n",
      "Found 647 validated image filenames.\n",
      "Found 583 validated image filenames belonging to 2 classes.\n",
      "Found 64 validated image filenames belonging to 2 classes.\n",
      "Epoch 1/10\n",
      "23/23 [==============================] - 35s 1s/step - loss: 0.4787 - accuracy: 0.7867 - val_loss: 0.0532 - val_accuracy: 1.0000\n",
      "Epoch 2/10\n",
      "23/23 [==============================] - 32s 1s/step - loss: 0.1357 - accuracy: 0.8853 - val_loss: 6.1926e-05 - val_accuracy: 1.0000\n",
      "Epoch 3/10\n",
      "23/23 [==============================] - 32s 1s/step - loss: 0.1177 - accuracy: 0.9229 - val_loss: 3.3577e-05 - val_accuracy: 1.0000\n",
      "Epoch 4/10\n",
      "23/23 [==============================] - 32s 1s/step - loss: 0.0986 - accuracy: 0.9677 - val_loss: 4.4223e-05 - val_accuracy: 1.0000\n",
      "Epoch 5/10\n",
      "23/23 [==============================] - 32s 1s/step - loss: 0.1117 - accuracy: 0.9857 - val_loss: 1.6887e-05 - val_accuracy: 1.0000\n",
      "Epoch 6/10\n",
      "23/23 [==============================] - 32s 1s/step - loss: 0.0963 - accuracy: 0.9821 - val_loss: 8.1599e-06 - val_accuracy: 1.0000\n",
      "Epoch 7/10\n",
      "23/23 [==============================] - 32s 1s/step - loss: 0.0988 - accuracy: 0.9892 - val_loss: 2.7492e-06 - val_accuracy: 1.0000\n",
      "Epoch 8/10\n",
      "23/23 [==============================] - 32s 1s/step - loss: 0.0889 - accuracy: 0.9857 - val_loss: 3.1552e-06 - val_accuracy: 1.0000\n",
      "Epoch 9/10\n",
      "23/23 [==============================] - 32s 1s/step - loss: 0.0951 - accuracy: 0.9928 - val_loss: 4.6769e-06 - val_accuracy: 1.0000\n",
      "Epoch 10/10\n",
      "23/23 [==============================] - 33s 1s/step - loss: 0.1057 - accuracy: 0.9896 - val_loss: 1.6633e-06 - val_accuracy: 1.0000\n",
      "Found 647 validated image filenames.\n",
      "Found 583 validated image filenames belonging to 2 classes.\n",
      "Found 64 validated image filenames belonging to 2 classes.\n",
      "Epoch 1/10\n",
      "23/23 [==============================] - 35s 1s/step - loss: 0.6289 - accuracy: 0.6918 - val_loss: 0.0565 - val_accuracy: 1.0000\n",
      "Epoch 2/10\n",
      "23/23 [==============================] - 32s 1s/step - loss: 0.2279 - accuracy: 0.8978 - val_loss: 0.0152 - val_accuracy: 1.0000\n",
      "Epoch 3/10\n",
      "23/23 [==============================] - 32s 1s/step - loss: 0.1581 - accuracy: 0.9229 - val_loss: 0.0062 - val_accuracy: 1.0000\n",
      "Epoch 4/10\n",
      "23/23 [==============================] - 32s 1s/step - loss: 0.1283 - accuracy: 0.9319 - val_loss: 0.0032 - val_accuracy: 1.0000\n",
      "Epoch 5/10\n",
      "23/23 [==============================] - 33s 1s/step - loss: 0.1240 - accuracy: 0.9462 - val_loss: 0.0028 - val_accuracy: 1.0000\n",
      "Epoch 6/10\n",
      "23/23 [==============================] - 32s 1s/step - loss: 0.0974 - accuracy: 0.9534 - val_loss: 7.9670e-04 - val_accuracy: 1.0000\n",
      "Epoch 7/10\n",
      "23/23 [==============================] - 32s 1s/step - loss: 0.1078 - accuracy: 0.9265 - val_loss: 2.1314e-04 - val_accuracy: 1.0000\n",
      "Epoch 8/10\n",
      "23/23 [==============================] - 32s 1s/step - loss: 0.0742 - accuracy: 0.9552 - val_loss: 9.1944e-05 - val_accuracy: 1.0000\n",
      "Epoch 9/10\n",
      "23/23 [==============================] - 32s 1s/step - loss: 0.0628 - accuracy: 0.9749 - val_loss: 2.2321e-05 - val_accuracy: 1.0000\n",
      "Epoch 10/10\n",
      "23/23 [==============================] - 32s 1s/step - loss: 0.0603 - accuracy: 0.9659 - val_loss: 1.2546e-05 - val_accuracy: 1.0000\n",
      "Found 647 validated image filenames.\n",
      "Found 583 validated image filenames belonging to 2 classes.\n",
      "Found 64 validated image filenames belonging to 2 classes.\n",
      "Epoch 1/10\n",
      "23/23 [==============================] - 35s 1s/step - loss: 0.5443 - accuracy: 0.7276 - val_loss: 0.0015 - val_accuracy: 1.0000\n",
      "Epoch 2/10\n",
      "23/23 [==============================] - 32s 1s/step - loss: 0.2574 - accuracy: 0.8530 - val_loss: 0.0011 - val_accuracy: 1.0000\n",
      "Epoch 3/10\n",
      "23/23 [==============================] - 32s 1s/step - loss: 0.1821 - accuracy: 0.8728 - val_loss: 6.7039e-04 - val_accuracy: 1.0000\n",
      "Epoch 4/10\n",
      "23/23 [==============================] - 32s 1s/step - loss: 0.1482 - accuracy: 0.9194 - val_loss: 4.8248e-04 - val_accuracy: 1.0000\n",
      "Epoch 5/10\n",
      "23/23 [==============================] - 32s 1s/step - loss: 0.1221 - accuracy: 0.9301 - val_loss: 0.0011 - val_accuracy: 1.0000\n",
      "Epoch 6/10\n",
      "23/23 [==============================] - 32s 1s/step - loss: 0.1272 - accuracy: 0.9373 - val_loss: 9.7695e-04 - val_accuracy: 1.0000\n",
      "Epoch 7/10\n",
      "23/23 [==============================] - 32s 1s/step - loss: 0.1527 - accuracy: 0.9229 - val_loss: 4.1725e-04 - val_accuracy: 1.0000\n",
      "Epoch 8/10\n",
      "23/23 [==============================] - 32s 1s/step - loss: 0.1341 - accuracy: 0.9373 - val_loss: 1.8136e-04 - val_accuracy: 1.0000\n",
      "Epoch 9/10\n",
      "23/23 [==============================] - 32s 1s/step - loss: 0.1255 - accuracy: 0.9588 - val_loss: 1.3892e-04 - val_accuracy: 1.0000\n",
      "Epoch 10/10\n",
      "23/23 [==============================] - 32s 1s/step - loss: 0.1112 - accuracy: 0.9677 - val_loss: 1.0862e-04 - val_accuracy: 1.0000\n",
      "Found 647 validated image filenames.\n"
     ]
    }
   ],
   "source": [
    "#Iniciando Data Generators\n",
    "train_datagen = ImageDataGenerator(shear_range = 0.2,\n",
    "                                   zoom_range = 0.2,\n",
    "                                   horizontal_flip = True)\n",
    "validation_datagen = ImageDataGenerator()\n",
    "\n",
    "#=====================================================================================================================#\n",
    "\n",
    "# k-fold\n",
    "kfold = StratifiedKFold(n_splits=N_SPLIT,shuffle=True,random_state=42)\n",
    "\n",
    "# Variable for keeping count of split we are executing\n",
    "j = 0\n",
    "\n",
    "# K-fold Train and test for each split\n",
    "for train_idx, val_idx in list(kfold.split(train_x,train_y)):\n",
    "    x_train_df = df.iloc[train_idx]\n",
    "    x_valid_df = df.iloc[val_idx]\n",
    "    j+=1\n",
    "    \n",
    "    training_set = train_datagen.flow_from_dataframe(dataframe=x_train_df, directory=TRAIN_PATH,\n",
    "                                                 x_col=\"Image\", y_col=\"Class\",\n",
    "                                                 class_mode=\"categorical\",\n",
    "                                                 target_size=(IMG_SIZE,IMG_SIZE), batch_size=BATCH_SIZE)\n",
    "    \n",
    "    validation_set = validation_datagen.flow_from_dataframe(dataframe=x_valid_df, directory=TRAIN_PATH,\n",
    "                                                 x_col=\"Image\", y_col=\"Class\",\n",
    "                                                 class_mode=\"categorical\",\n",
    "                                                 target_size=(IMG_SIZE,IMG_SIZE), batch_size=BATCH_SIZE)\n",
    "    \n",
    "    model_test = get_model(IMG_SIZE)\n",
    "    \n",
    "    \n",
    "    history = model_test.fit( training_set,\n",
    "                                        validation_data=validation_set,\n",
    "                                        epochs = EPOCHS,\n",
    "                                        steps_per_epoch=x_train_df.shape[0] // BATCH_SIZE\n",
    "                                        )\n",
    "    \n",
    "    test_generator = ImageDataGenerator()\n",
    "    \n",
    "    test_set = test_generator.flow_from_dataframe(dataframe=train, directory=TRAIN_PATH,\n",
    "                                                 x_col=\"Image\",y_col=None,\n",
    "                                                 class_mode=None,\n",
    "                                                 target_size=(IMG_SIZE,IMG_SIZE))\n",
    "    \n",
    "    #=====================================================================================================================#\n",
    "    \n",
    "    pred= model_test.predict(test_set, len(train) // BATCH_SIZE)\n",
    "    predicted_class_indices=np.argmax(pred,axis=1)\n",
    "                                       \n",
    "    data_kfold[j] = predicted_class_indices\n",
    "    gc.collect()"
   ]
  },
  {
   "cell_type": "markdown",
   "id": "9b81dfb8",
   "metadata": {},
   "source": [
    "# ============================================================="
   ]
  },
  {
   "cell_type": "code",
   "execution_count": 48,
   "id": "e2a1430b",
   "metadata": {},
   "outputs": [
    {
     "data": {
      "text/html": [
       "<div>\n",
       "<style scoped>\n",
       "    .dataframe tbody tr th:only-of-type {\n",
       "        vertical-align: middle;\n",
       "    }\n",
       "\n",
       "    .dataframe tbody tr th {\n",
       "        vertical-align: top;\n",
       "    }\n",
       "\n",
       "    .dataframe thead th {\n",
       "        text-align: right;\n",
       "    }\n",
       "</style>\n",
       "<table border=\"1\" class=\"dataframe\">\n",
       "  <thead>\n",
       "    <tr style=\"text-align: right;\">\n",
       "      <th></th>\n",
       "      <th>1</th>\n",
       "      <th>2</th>\n",
       "      <th>3</th>\n",
       "      <th>4</th>\n",
       "      <th>5</th>\n",
       "      <th>6</th>\n",
       "      <th>7</th>\n",
       "      <th>8</th>\n",
       "      <th>9</th>\n",
       "      <th>10</th>\n",
       "    </tr>\n",
       "  </thead>\n",
       "  <tbody>\n",
       "    <tr>\n",
       "      <th>0</th>\n",
       "      <td>0</td>\n",
       "      <td>1</td>\n",
       "      <td>1</td>\n",
       "      <td>1</td>\n",
       "      <td>0</td>\n",
       "      <td>0</td>\n",
       "      <td>0</td>\n",
       "      <td>0</td>\n",
       "      <td>1</td>\n",
       "      <td>1</td>\n",
       "    </tr>\n",
       "    <tr>\n",
       "      <th>1</th>\n",
       "      <td>1</td>\n",
       "      <td>1</td>\n",
       "      <td>1</td>\n",
       "      <td>1</td>\n",
       "      <td>0</td>\n",
       "      <td>1</td>\n",
       "      <td>0</td>\n",
       "      <td>0</td>\n",
       "      <td>1</td>\n",
       "      <td>1</td>\n",
       "    </tr>\n",
       "    <tr>\n",
       "      <th>2</th>\n",
       "      <td>0</td>\n",
       "      <td>1</td>\n",
       "      <td>1</td>\n",
       "      <td>0</td>\n",
       "      <td>1</td>\n",
       "      <td>1</td>\n",
       "      <td>0</td>\n",
       "      <td>1</td>\n",
       "      <td>1</td>\n",
       "      <td>0</td>\n",
       "    </tr>\n",
       "    <tr>\n",
       "      <th>3</th>\n",
       "      <td>0</td>\n",
       "      <td>1</td>\n",
       "      <td>0</td>\n",
       "      <td>0</td>\n",
       "      <td>1</td>\n",
       "      <td>0</td>\n",
       "      <td>0</td>\n",
       "      <td>1</td>\n",
       "      <td>0</td>\n",
       "      <td>1</td>\n",
       "    </tr>\n",
       "    <tr>\n",
       "      <th>4</th>\n",
       "      <td>1</td>\n",
       "      <td>1</td>\n",
       "      <td>1</td>\n",
       "      <td>0</td>\n",
       "      <td>0</td>\n",
       "      <td>1</td>\n",
       "      <td>1</td>\n",
       "      <td>1</td>\n",
       "      <td>0</td>\n",
       "      <td>0</td>\n",
       "    </tr>\n",
       "    <tr>\n",
       "      <th>...</th>\n",
       "      <td>...</td>\n",
       "      <td>...</td>\n",
       "      <td>...</td>\n",
       "      <td>...</td>\n",
       "      <td>...</td>\n",
       "      <td>...</td>\n",
       "      <td>...</td>\n",
       "      <td>...</td>\n",
       "      <td>...</td>\n",
       "      <td>...</td>\n",
       "    </tr>\n",
       "    <tr>\n",
       "      <th>642</th>\n",
       "      <td>0</td>\n",
       "      <td>1</td>\n",
       "      <td>0</td>\n",
       "      <td>1</td>\n",
       "      <td>0</td>\n",
       "      <td>1</td>\n",
       "      <td>1</td>\n",
       "      <td>0</td>\n",
       "      <td>0</td>\n",
       "      <td>0</td>\n",
       "    </tr>\n",
       "    <tr>\n",
       "      <th>643</th>\n",
       "      <td>1</td>\n",
       "      <td>1</td>\n",
       "      <td>0</td>\n",
       "      <td>1</td>\n",
       "      <td>1</td>\n",
       "      <td>0</td>\n",
       "      <td>1</td>\n",
       "      <td>0</td>\n",
       "      <td>0</td>\n",
       "      <td>1</td>\n",
       "    </tr>\n",
       "    <tr>\n",
       "      <th>644</th>\n",
       "      <td>1</td>\n",
       "      <td>0</td>\n",
       "      <td>0</td>\n",
       "      <td>1</td>\n",
       "      <td>0</td>\n",
       "      <td>0</td>\n",
       "      <td>0</td>\n",
       "      <td>1</td>\n",
       "      <td>1</td>\n",
       "      <td>1</td>\n",
       "    </tr>\n",
       "    <tr>\n",
       "      <th>645</th>\n",
       "      <td>1</td>\n",
       "      <td>1</td>\n",
       "      <td>0</td>\n",
       "      <td>1</td>\n",
       "      <td>1</td>\n",
       "      <td>1</td>\n",
       "      <td>1</td>\n",
       "      <td>0</td>\n",
       "      <td>0</td>\n",
       "      <td>0</td>\n",
       "    </tr>\n",
       "    <tr>\n",
       "      <th>646</th>\n",
       "      <td>1</td>\n",
       "      <td>0</td>\n",
       "      <td>1</td>\n",
       "      <td>1</td>\n",
       "      <td>1</td>\n",
       "      <td>0</td>\n",
       "      <td>1</td>\n",
       "      <td>1</td>\n",
       "      <td>0</td>\n",
       "      <td>0</td>\n",
       "    </tr>\n",
       "  </tbody>\n",
       "</table>\n",
       "<p>647 rows × 10 columns</p>\n",
       "</div>"
      ],
      "text/plain": [
       "     1   2   3   4   5   6   7   8   9   10\n",
       "0     0   1   1   1   0   0   0   0   1   1\n",
       "1     1   1   1   1   0   1   0   0   1   1\n",
       "2     0   1   1   0   1   1   0   1   1   0\n",
       "3     0   1   0   0   1   0   0   1   0   1\n",
       "4     1   1   1   0   0   1   1   1   0   0\n",
       "..   ..  ..  ..  ..  ..  ..  ..  ..  ..  ..\n",
       "642   0   1   0   1   0   1   1   0   0   0\n",
       "643   1   1   0   1   1   0   1   0   0   1\n",
       "644   1   0   0   1   0   0   0   1   1   1\n",
       "645   1   1   0   1   1   1   1   0   0   0\n",
       "646   1   0   1   1   1   0   1   1   0   0\n",
       "\n",
       "[647 rows x 10 columns]"
      ]
     },
     "execution_count": 48,
     "metadata": {},
     "output_type": "execute_result"
    }
   ],
   "source": [
    "# holder\n",
    "data_kfold"
   ]
  },
  {
   "cell_type": "code",
   "execution_count": 49,
   "id": "8e0c4e6f",
   "metadata": {},
   "outputs": [],
   "source": [
    "# testing on single iteration of HoldOut\n",
    "predicted_class_indices = data_kfold[1]\n",
    "labels=(training_set.class_indices)\n",
    "labels2=dict((v,k) for k,v in labels.items())\n",
    "predictions=[labels2[k] for k in predicted_class_indices]"
   ]
  },
  {
   "cell_type": "code",
   "execution_count": 50,
   "id": "f27da771",
   "metadata": {},
   "outputs": [],
   "source": [
    "ans = train.copy()"
   ]
  },
  {
   "cell_type": "code",
   "execution_count": 51,
   "id": "9fecc849",
   "metadata": {},
   "outputs": [],
   "source": [
    "# Taking The Label with Maximum Occurences\n",
    "\n",
    "labels=(training_set.class_indices)\n",
    "labels2=dict((v,k) for k,v in labels.items())\n",
    "import collections \n",
    "for i in range(len(data_kfold)):\n",
    "    co = collections.Counter(data_kfold.loc[i])\n",
    "    co = sorted(co.items(),key=lambda x: x[1],reverse=True)\n",
    "    ans.Class.loc[i] = labels2[co[0][0]]"
   ]
  },
  {
   "cell_type": "code",
   "execution_count": 52,
   "id": "48f920da",
   "metadata": {
    "scrolled": false
   },
   "outputs": [
    {
     "name": "stdout",
     "output_type": "stream",
     "text": [
      "Accuracy of K-Fold Method:  0.5\n"
     ]
    }
   ],
   "source": [
    "# Averaged K-Fold Output\n",
    "print(\"Accuracy of K-Fold Method: \", round(accuracy_score(train.Class,ans.Class),2))"
   ]
  }
 ],
 "metadata": {
  "kernelspec": {
   "display_name": "Python 3",
   "language": "python",
   "name": "python3"
  },
  "language_info": {
   "codemirror_mode": {
    "name": "ipython",
    "version": 3
   },
   "file_extension": ".py",
   "mimetype": "text/x-python",
   "name": "python",
   "nbconvert_exporter": "python",
   "pygments_lexer": "ipython3",
   "version": "3.8.8"
  }
 },
 "nbformat": 4,
 "nbformat_minor": 5
}
