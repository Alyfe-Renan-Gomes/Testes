{
 "cells": [
  {
   "cell_type": "markdown",
   "id": "7aa47a03",
   "metadata": {},
   "source": [
    "# Bibliotecas que e funções que serão utilizadas"
   ]
  },
  {
   "cell_type": "code",
   "execution_count": 99,
   "id": "d8760ad5",
   "metadata": {},
   "outputs": [],
   "source": [
    "import matplotlib.pyplot as plt\n",
    "import numpy as np\n",
    "import glob\n",
    "import os\n",
    "import PIL\n",
    "import tensorflow as tf\n",
    "from tensorflow import keras\n",
    "from tensorflow.keras import layers\n",
    "from tensorflow.python.keras.layers import Dense, Flatten\n",
    "from tensorflow.keras.models import Sequential\n",
    "from tensorflow.keras.optimizers import Adam\n",
    "import pathlib"
   ]
  },
  {
   "cell_type": "markdown",
   "id": "f96b7f22",
   "metadata": {},
   "source": [
    "# Defining The Path"
   ]
  },
  {
   "cell_type": "code",
   "execution_count": 100,
   "id": "920b2934",
   "metadata": {},
   "outputs": [
    {
     "name": "stdout",
     "output_type": "stream",
     "text": [
      "C:\\Users\\Alyfe Renan Gomes\\Programação\\Código da IC\\Resnet-50\n"
     ]
    }
   ],
   "source": [
    "data_dir2 = 'C:\\\\Users\\\\Alyfe Renan Gomes\\\\Programação\\\\Código da IC\\\\Resnet-50'\n",
    "data_dir2 = pathlib.Path(data_dir2)\n",
    "print(data_dir2)"
   ]
  },
  {
   "cell_type": "code",
   "execution_count": 101,
   "id": "eb1eb0ed",
   "metadata": {},
   "outputs": [
    {
     "name": "stdout",
     "output_type": "stream",
     "text": [
      "105 281\n"
     ]
    }
   ],
   "source": [
    "images_path=r'C:\\\\Users\\\\Alyfe Renan Gomes\\\\Programação\\\\Código da IC\\\\Resnet-50\\\\TB'\n",
    "TB_images = list(filter(lambda x: True if x.endswith('png') else False,os.listdir(images_path)))\n",
    "\n",
    "images_path=r'C:\\\\Users\\\\Alyfe Renan Gomes\\\\Programação\\\\Código da IC\\\\Resnet-50\\\\NTB'\n",
    "NTB_images = list(filter(lambda x: True if x.endswith('png') else False,os.listdir(images_path)))\n",
    "\n",
    "print(len(TB_images), len(NTB_images))"
   ]
  },
  {
   "cell_type": "code",
   "execution_count": 102,
   "id": "1417eaf6",
   "metadata": {},
   "outputs": [
    {
     "name": "stdout",
     "output_type": "stream",
     "text": [
      "C:\\Users\\Alyfe Renan Gomes\\Programação\\Código da IC\\Resnet-50\\NTB\\CHNCXR_0043_0.png\n",
      "C:\\Users\\Alyfe Renan Gomes\\Programação\\Código da IC\\Resnet-50\\TB\\CHNCXR_0413_1.png\n"
     ]
    }
   ],
   "source": [
    "NTB = list(data_dir2.glob('NTB/*'))\n",
    "print(NTB[0])\n",
    "\n",
    "TB = list(data_dir2.glob('TB/*'))\n",
    "print(TB[0])\n",
    "\n",
    "#PIL.Image.open(str(cxr[0]))"
   ]
  },
  {
   "cell_type": "markdown",
   "id": "7e4f3a3e",
   "metadata": {},
   "source": [
    "# Defining train and validation images"
   ]
  },
  {
   "cell_type": "code",
   "execution_count": 103,
   "id": "fa60ff9e",
   "metadata": {},
   "outputs": [
    {
     "name": "stdout",
     "output_type": "stream",
     "text": [
      "Found 386 files belonging to 2 classes.\n",
      "Using 309 files for training.\n"
     ]
    }
   ],
   "source": [
    "img_height,img_width=180,180\n",
    "batch_size=32\n",
    "train_ds = tf.keras.preprocessing.image_dataset_from_directory(\n",
    "  data_dir2,\n",
    "  label_mode='categorical', \n",
    "  validation_split=0.2,\n",
    "  subset=\"training\",\n",
    "  seed=123,\n",
    "  image_size=(img_height, img_width),\n",
    "  batch_size=batch_size)"
   ]
  },
  {
   "cell_type": "code",
   "execution_count": 104,
   "id": "c138700e",
   "metadata": {},
   "outputs": [
    {
     "name": "stdout",
     "output_type": "stream",
     "text": [
      "Found 386 files belonging to 2 classes.\n",
      "Using 77 files for validation.\n"
     ]
    }
   ],
   "source": [
    "val_ds = tf.keras.preprocessing.image_dataset_from_directory(\n",
    "  data_dir2,\n",
    "  validation_split=0.2,\n",
    "  label_mode='categorical', \n",
    "  subset=\"validation\",\n",
    "  seed=123,\n",
    "  image_size=(img_height, img_width),\n",
    "  batch_size=batch_size)"
   ]
  },
  {
   "cell_type": "code",
   "execution_count": 105,
   "id": "4cc2907a",
   "metadata": {},
   "outputs": [
    {
     "name": "stdout",
     "output_type": "stream",
     "text": [
      "['NTB', 'TB']\n"
     ]
    }
   ],
   "source": [
    "class_names=train_ds.class_names\n",
    "print(class_names)"
   ]
  },
  {
   "cell_type": "markdown",
   "id": "52cdca21",
   "metadata": {},
   "source": [
    "# Training The Model"
   ]
  },
  {
   "cell_type": "code",
   "execution_count": 106,
   "id": "d71ddb42",
   "metadata": {},
   "outputs": [],
   "source": [
    "resnet_model = Sequential()\n",
    "\n",
    "pretrained_model= tf.keras.applications.ResNet50(include_top=False,\n",
    "                   input_shape=(180,180,3),\n",
    "                   pooling='avg',classes=2,\n",
    "                   weights='imagenet')\n",
    "for layer in pretrained_model.layers:\n",
    "        layer.trainable=False\n",
    "\n",
    "resnet_model.add(pretrained_model)\n",
    "resnet_model.add(Flatten())\n",
    "resnet_model.add(Dense(512, activation='relu'))\n",
    "resnet_model.add(Dense(2, activation='softmax'))"
   ]
  },
  {
   "cell_type": "code",
   "execution_count": 107,
   "id": "d513c5ea",
   "metadata": {},
   "outputs": [
    {
     "name": "stdout",
     "output_type": "stream",
     "text": [
      "Model: \"sequential_4\"\n",
      "_________________________________________________________________\n",
      " Layer (type)                Output Shape              Param #   \n",
      "=================================================================\n",
      " resnet50 (Functional)       (None, 2048)              23587712  \n",
      "                                                                 \n",
      " module_wrapper_9 (ModuleWra  (None, 2048)             0         \n",
      " pper)                                                           \n",
      "                                                                 \n",
      " module_wrapper_10 (ModuleWr  (None, 512)              1049088   \n",
      " apper)                                                          \n",
      "                                                                 \n",
      " module_wrapper_11 (ModuleWr  (None, 2)                1026      \n",
      " apper)                                                          \n",
      "                                                                 \n",
      "=================================================================\n",
      "Total params: 24,637,826\n",
      "Trainable params: 1,050,114\n",
      "Non-trainable params: 23,587,712\n",
      "_________________________________________________________________\n"
     ]
    }
   ],
   "source": [
    "resnet_model.summary()"
   ]
  },
  {
   "cell_type": "code",
   "execution_count": 108,
   "id": "656800f5",
   "metadata": {},
   "outputs": [],
   "source": [
    "resnet_model.compile(optimizer=Adam(learning_rate=0.001),loss='categorical_crossentropy',metrics=['accuracy'])"
   ]
  },
  {
   "cell_type": "code",
   "execution_count": 109,
   "id": "10f375b9",
   "metadata": {},
   "outputs": [
    {
     "name": "stdout",
     "output_type": "stream",
     "text": [
      "Epoch 1/30\n",
      "10/10 [==============================] - 41s 3s/step - loss: 2.8460 - accuracy: 0.6052 - val_loss: 0.4722 - val_accuracy: 0.7792\n",
      "Epoch 2/30\n",
      "10/10 [==============================] - 38s 3s/step - loss: 0.6001 - accuracy: 0.7961 - val_loss: 0.3935 - val_accuracy: 0.8052\n",
      "Epoch 3/30\n",
      "10/10 [==============================] - 34s 3s/step - loss: 0.4096 - accuracy: 0.8608 - val_loss: 0.3018 - val_accuracy: 0.8831\n",
      "Epoch 4/30\n",
      "10/10 [==============================] - 40s 3s/step - loss: 0.3012 - accuracy: 0.8770 - val_loss: 0.4032 - val_accuracy: 0.8312\n",
      "Epoch 5/30\n",
      "10/10 [==============================] - 32s 2s/step - loss: 0.2900 - accuracy: 0.8738 - val_loss: 0.3742 - val_accuracy: 0.8312\n",
      "Epoch 6/30\n",
      "10/10 [==============================] - 33s 3s/step - loss: 0.2369 - accuracy: 0.9061 - val_loss: 0.2968 - val_accuracy: 0.8701\n",
      "Epoch 7/30\n",
      "10/10 [==============================] - 34s 2s/step - loss: 0.2608 - accuracy: 0.9061 - val_loss: 0.2972 - val_accuracy: 0.8701\n",
      "Epoch 8/30\n",
      "10/10 [==============================] - 37s 3s/step - loss: 0.2133 - accuracy: 0.9223 - val_loss: 0.2972 - val_accuracy: 0.8831\n",
      "Epoch 9/30\n",
      "10/10 [==============================] - 37s 3s/step - loss: 0.1919 - accuracy: 0.9191 - val_loss: 0.2818 - val_accuracy: 0.8571\n",
      "Epoch 10/30\n",
      "10/10 [==============================] - 33s 3s/step - loss: 0.1836 - accuracy: 0.9417 - val_loss: 0.2981 - val_accuracy: 0.8831\n",
      "Epoch 11/30\n",
      "10/10 [==============================] - 34s 3s/step - loss: 0.1616 - accuracy: 0.9515 - val_loss: 0.3216 - val_accuracy: 0.8442\n",
      "Epoch 12/30\n",
      "10/10 [==============================] - 34s 3s/step - loss: 0.1571 - accuracy: 0.9450 - val_loss: 0.2831 - val_accuracy: 0.8831\n",
      "Epoch 13/30\n",
      "10/10 [==============================] - 32s 2s/step - loss: 0.1625 - accuracy: 0.9385 - val_loss: 0.3404 - val_accuracy: 0.8571\n",
      "Epoch 14/30\n",
      "10/10 [==============================] - 32s 2s/step - loss: 0.1550 - accuracy: 0.9482 - val_loss: 0.3128 - val_accuracy: 0.8701\n",
      "Epoch 15/30\n",
      "10/10 [==============================] - 36s 3s/step - loss: 0.1260 - accuracy: 0.9547 - val_loss: 0.3379 - val_accuracy: 0.8442\n",
      "Epoch 16/30\n",
      "10/10 [==============================] - 34s 3s/step - loss: 0.1032 - accuracy: 0.9741 - val_loss: 0.3306 - val_accuracy: 0.8701\n",
      "Epoch 17/30\n",
      "10/10 [==============================] - 33s 2s/step - loss: 0.1041 - accuracy: 0.9676 - val_loss: 0.3485 - val_accuracy: 0.8442\n",
      "Epoch 18/30\n",
      "10/10 [==============================] - 31s 2s/step - loss: 0.0972 - accuracy: 0.9806 - val_loss: 0.4024 - val_accuracy: 0.8571\n",
      "Epoch 19/30\n",
      "10/10 [==============================] - 34s 3s/step - loss: 0.1289 - accuracy: 0.9515 - val_loss: 0.5836 - val_accuracy: 0.8052\n",
      "Epoch 20/30\n",
      "10/10 [==============================] - 33s 2s/step - loss: 0.1018 - accuracy: 0.9644 - val_loss: 0.3549 - val_accuracy: 0.8831\n",
      "Epoch 21/30\n",
      "10/10 [==============================] - 31s 2s/step - loss: 0.0733 - accuracy: 0.9806 - val_loss: 0.3379 - val_accuracy: 0.8831\n",
      "Epoch 22/30\n",
      "10/10 [==============================] - 31s 2s/step - loss: 0.0622 - accuracy: 0.9871 - val_loss: 0.4069 - val_accuracy: 0.8442\n",
      "Epoch 23/30\n",
      "10/10 [==============================] - 35s 3s/step - loss: 0.0625 - accuracy: 0.9806 - val_loss: 0.3992 - val_accuracy: 0.8442\n",
      "Epoch 24/30\n",
      "10/10 [==============================] - 20829s 3s/step - loss: 0.0577 - accuracy: 0.9968 - val_loss: 0.4684 - val_accuracy: 0.8312\n",
      "Epoch 25/30\n",
      "10/10 [==============================] - 33s 2s/step - loss: 0.0620 - accuracy: 0.9903 - val_loss: 0.4003 - val_accuracy: 0.8442\n",
      "Epoch 26/30\n",
      "10/10 [==============================] - 30s 2s/step - loss: 0.0434 - accuracy: 0.9968 - val_loss: 0.3239 - val_accuracy: 0.8701\n",
      "Epoch 27/30\n",
      "10/10 [==============================] - 30s 2s/step - loss: 0.0465 - accuracy: 0.9935 - val_loss: 0.3319 - val_accuracy: 0.8831\n",
      "Epoch 28/30\n",
      "10/10 [==============================] - 30s 2s/step - loss: 0.0386 - accuracy: 1.0000 - val_loss: 0.3992 - val_accuracy: 0.8701\n",
      "Epoch 29/30\n",
      "10/10 [==============================] - 31s 2s/step - loss: 0.0322 - accuracy: 1.0000 - val_loss: 0.4183 - val_accuracy: 0.8701\n",
      "Epoch 30/30\n",
      "10/10 [==============================] - 30s 2s/step - loss: 0.0308 - accuracy: 1.0000 - val_loss: 0.4119 - val_accuracy: 0.8701\n"
     ]
    }
   ],
   "source": [
    "epochs=30\n",
    "history = resnet_model.fit(train_ds, validation_data=val_ds, epochs=epochs)"
   ]
  },
  {
   "cell_type": "markdown",
   "id": "6d65311f",
   "metadata": {},
   "source": [
    "# Evaluating the model"
   ]
  },
  {
   "cell_type": "code",
   "execution_count": 110,
   "id": "7742753b",
   "metadata": {},
   "outputs": [
    {
     "data": {
      "image/png": "[encoded data removed]",
      "text/plain": [
       "<Figure size 432x288 with 1 Axes>"
      ]
     },
     "metadata": {
      "needs_background": "light"
     },
     "output_type": "display_data"
    }
   ],
   "source": [
    "fig1 = plt.gcf()\n",
    "plt.plot(history.history['accuracy'])\n",
    "plt.plot(history.history['val_accuracy'])\n",
    "plt.axis(ymin=0.4,ymax=1)\n",
    "plt.grid()\n",
    "plt.title('Model Accuracy')\n",
    "plt.ylabel('Accuracy')\n",
    "plt.xlabel('Epochs')\n",
    "plt.legend(['train', 'validation'])\n",
    "plt.show()"
   ]
  },
  {
   "cell_type": "markdown",
   "id": "b81a616d",
   "metadata": {},
   "source": [
    "# Making predictions"
   ]
  },
  {
   "cell_type": "code",
   "execution_count": 125,
   "id": "f20afd0b",
   "metadata": {},
   "outputs": [],
   "source": [
    "import cv2\n",
    "image=cv2.imread('CHNCXR_0558_1.png')\n",
    "#[CHNCXR_0083_0,CHNCXR_0145_0,CHNCXR_0131_0 -> CHNCXR_0122_0] / [CHNCXR_0625_1,CHNCXR_0609_1,CHNCXR_0568_1 -> CHNCXR_0644_1]\n",
    "image_resized= cv2.resize(image, (img_height,img_width))\n",
    "image=np.expand_dims(image_resized,axis=0)"
   ]
  },
  {
   "cell_type": "code",
   "execution_count": 126,
   "id": "5fe7a989",
   "metadata": {},
   "outputs": [
    {
     "name": "stdout",
     "output_type": "stream",
     "text": [
      "[[9.99881387e-01 1.18567856e-04]]\n"
     ]
    }
   ],
   "source": [
    "pred=resnet_model.predict(image)\n",
    "print(pred)"
   ]
  },
  {
   "cell_type": "code",
   "execution_count": 127,
   "id": "4e449b1a",
   "metadata": {},
   "outputs": [
    {
     "name": "stdout",
     "output_type": "stream",
     "text": [
      "The predicted class is NTB\n"
     ]
    }
   ],
   "source": [
    "output_class=class_names[np.argmax(pred)]\n",
    "print(\"The predicted class is\", output_class)"
   ]
  },
  {
   "cell_type": "markdown",
   "id": "f7ba7f5d",
   "metadata": {},
   "source": [
    "# Percorrendo todo o banco"
   ]
  },
  {
   "cell_type": "code",
   "execution_count": 114,
   "id": "c53178e2",
   "metadata": {},
   "outputs": [
    {
     "name": "stdout",
     "output_type": "stream",
     "text": [
      "a porcentagem de acertos foi 91.42857142857143\n"
     ]
    }
   ],
   "source": [
    "soma=0\n",
    "diagnostico_errado_TB = []\n",
    "for image in TB:\n",
    "    i = TB.index(image)\n",
    "    image=cv2.imread(TB_images[i])\n",
    "    image_resized= cv2.resize(image, (img_height,img_width))\n",
    "    image=np.expand_dims(image_resized,axis=0)\n",
    "    \n",
    "    pred=resnet_model.predict(image)\n",
    "    output_class=class_names[np.argmax(pred)]\n",
    "    \n",
    "    if output_class == 'TB':\n",
    "        soma+=1\n",
    "    else:\n",
    "        diagnostico_errado_TB.append(TB_images[i])\n",
    "\n",
    "tamanho = len(TB)\n",
    "porcentagem = 100*soma/tamanho\n",
    "string = f'a porcentagem de acertos foi {porcentagem}'\n",
    "\n",
    "print(string)"
   ]
  },
  {
   "cell_type": "code",
   "execution_count": 115,
   "id": "1416e83e",
   "metadata": {},
   "outputs": [
    {
     "name": "stdout",
     "output_type": "stream",
     "text": [
      "['CHNCXR_0558_1.png', 'CHNCXR_0598_1.png', 'CHNCXR_0615_1.png', 'CHNCXR_0616_1.png', 'CHNCXR_0624_1.png', 'CHNCXR_0635_1.png', 'CHNCXR_0640_1.png', 'CHNCXR_0647_1.png', 'CHNCXR_0655_1.png']\n"
     ]
    }
   ],
   "source": [
    "print(diagnostico_errado_TB)"
   ]
  },
  {
   "cell_type": "code",
   "execution_count": 116,
   "id": "43cdfa4c",
   "metadata": {},
   "outputs": [
    {
     "name": "stdout",
     "output_type": "stream",
     "text": [
      "a porcentagem de acertos foi 99.644128113879\n"
     ]
    }
   ],
   "source": [
    "soma=0\n",
    "diagnostico_errado_NTB = []\n",
    "for image in NTB:\n",
    "    i = NTB.index(image)\n",
    "    image=cv2.imread(NTB_images[i])\n",
    "    image_resized= cv2.resize(image, (img_height,img_width))\n",
    "    image=np.expand_dims(image_resized,axis=0)\n",
    "    \n",
    "    pred=resnet_model.predict(image)\n",
    "    output_class=class_names[np.argmax(pred)]\n",
    "    \n",
    "    if output_class == 'NTB':\n",
    "        soma+=1\n",
    "    else:\n",
    "        diagnostico_errado_NTB.append(NTB_images[i])\n",
    "\n",
    "tamanho = len(NTB)\n",
    "porcentagem = 100*soma/tamanho\n",
    "string = f'a porcentagem de acertos foi {porcentagem}'\n",
    "\n",
    "print(string)"
   ]
  },
  {
   "cell_type": "code",
   "execution_count": 117,
   "id": "e4e93cb8",
   "metadata": {},
   "outputs": [
    {
     "name": "stdout",
     "output_type": "stream",
     "text": [
      "['CHNCXR_0259_0.png']\n"
     ]
    }
   ],
   "source": [
    "print(diagnostico_errado_NTB)"
   ]
  },
  {
   "cell_type": "code",
   "execution_count": 118,
   "id": "79db8a2a",
   "metadata": {},
   "outputs": [
    {
     "name": "stdout",
     "output_type": "stream",
     "text": [
      "0\n",
      "0\n"
     ]
    }
   ],
   "source": [
    "images_dis=['CHNCXR_0619_1.png','CHNCXR_0020_0.png','CHNCXR_0464_1.png','CHNCXR_0597_1.png','CHNCXR_0167_0.png',\n",
    "'CHNCXR_0626_1.png','CHNCXR_0455_1.png','CHNCXR_0346_1.png','CHNCXR_0296_0.png','CHNCXR_0572_1.png',\n",
    "'CHNCXR_0459_1.png','CHNCXR_0291_0.png','CHNCXR_0446_1.png','CHNCXR_0441_1.png','CHNCXR_0621_1.png',\n",
    "'CHNCXR_0391_1.png','CHNCXR_0493_1.png','CHNCXR_0267_0.png','CHNCXR_0574_1.png','CHNCXR_0610_1.png',\n",
    "'CHNCXR_0032_0.png','CHNCXR_0380_1.png','CHNCXR_0424_1.png','CHNCXR_0437_1.png']\n",
    "\n",
    "diss1=0\n",
    "for image in diagnostico_errado_TB:\n",
    "    if image in images_dis:\n",
    "        diss1+=1\n",
    "        print(image)\n",
    "\n",
    "print(diss1)\n",
    "\n",
    "diss2=0\n",
    "for image in diagnostico_errado_NTB:\n",
    "    if image in images_dis:\n",
    "        diss2+=1\n",
    "        print(image)\n",
    "\n",
    "print(diss2)"
   ]
  },
  {
   "cell_type": "markdown",
   "id": "068f4341",
   "metadata": {},
   "source": [
    "# Testando em outra base"
   ]
  },
  {
   "cell_type": "code",
   "execution_count": 170,
   "id": "8c29cc50",
   "metadata": {},
   "outputs": [],
   "source": [
    "images_path=r'C:\\\\Users\\\\Alyfe Renan Gomes\\\\Programação\\\\CXR_png\\\\TB2'\n",
    "TB2_images = list(filter(lambda x: True if x.endswith('png') else False,os.listdir(images_path)))\n",
    "\n",
    "images_path=r'C:\\\\Users\\\\Alyfe Renan Gomes\\\\Programação\\\\CXR_png\\\\NTB2'\n",
    "NTB2_images = list(filter(lambda x: True if x.endswith('png') else False,os.listdir(images_path)))"
   ]
  },
  {
   "cell_type": "code",
   "execution_count": 171,
   "id": "d2e4f19c",
   "metadata": {},
   "outputs": [],
   "source": [
    "import cv2\n",
    "image=cv2.imread(TB2_images[8])\n",
    "#[CHNCXR_0083_0,CHNCXR_0145_0,CHNCXR_0131_0 -> CHNCXR_0122_0] / [CHNCXR_0625_1,CHNCXR_0609_1,CHNCXR_0568_1 -> CHNCXR_0644_1]\n",
    "image_resized= cv2.resize(image, (img_height,img_width))\n",
    "image=np.expand_dims(image_resized,axis=0)"
   ]
  },
  {
   "cell_type": "code",
   "execution_count": 172,
   "id": "4896bbaf",
   "metadata": {},
   "outputs": [
    {
     "name": "stdout",
     "output_type": "stream",
     "text": [
      "[[9.9991584e-01 8.4100946e-05]]\n"
     ]
    }
   ],
   "source": [
    "pred=resnet_model.predict(image)\n",
    "print(pred)"
   ]
  },
  {
   "cell_type": "code",
   "execution_count": 173,
   "id": "d16be51e",
   "metadata": {},
   "outputs": [
    {
     "name": "stdout",
     "output_type": "stream",
     "text": [
      "The predicted class is NTB\n"
     ]
    }
   ],
   "source": [
    "output_class=class_names[np.argmax(pred)]\n",
    "print(\"The predicted class is\", output_class)"
   ]
  },
  {
   "cell_type": "code",
   "execution_count": 149,
   "id": "57a52ab4",
   "metadata": {},
   "outputs": [
    {
     "name": "stdout",
     "output_type": "stream",
     "text": [
      "a porcentagem de acertos foi 100.0\n"
     ]
    }
   ],
   "source": [
    "soma=0\n",
    "diagnostico_errado_NTB2 = []\n",
    "for image in NTB2_images:\n",
    "    i = NTB2_images.index(image)\n",
    "    image=cv2.imread(NTB2_images[i])\n",
    "    image_resized= cv2.resize(image, (img_height,img_width))\n",
    "    image=np.expand_dims(image_resized,axis=0)\n",
    "    \n",
    "    pred=resnet_model.predict(image)\n",
    "    output_class=class_names[np.argmax(pred)]\n",
    "    \n",
    "    if output_class == 'NTB':\n",
    "        soma+=1\n",
    "    else:\n",
    "        diagnostico_errado_NTB2.append(NTB2_images[i])\n",
    "\n",
    "tamanho = len(NTB2_images)\n",
    "porcentagem = 100*soma/tamanho\n",
    "string = f'a porcentagem de acertos foi {porcentagem}'\n",
    "\n",
    "print(string)"
   ]
  },
  {
   "cell_type": "code",
   "execution_count": 148,
   "id": "40dcde9d",
   "metadata": {},
   "outputs": [
    {
     "name": "stdout",
     "output_type": "stream",
     "text": [
      "[]\n"
     ]
    }
   ],
   "source": [
    "print(diagnostico_errado_NTB2)"
   ]
  },
  {
   "cell_type": "code",
   "execution_count": 152,
   "id": "6de27372",
   "metadata": {},
   "outputs": [
    {
     "name": "stdout",
     "output_type": "stream",
     "text": [
      "a porcentagem de acertos foi 0.0\n"
     ]
    }
   ],
   "source": [
    "soma=0\n",
    "diagnostico_errado_TB2 = []\n",
    "for image in TB2_images:\n",
    "    i = TB2_images.index(image)\n",
    "    image=cv2.imread(TB2_images[i])\n",
    "    image_resized= cv2.resize(image, (img_height,img_width))\n",
    "    image=np.expand_dims(image_resized,axis=0)\n",
    "    \n",
    "    pred=resnet_model.predict(image)\n",
    "    output_class=class_names[np.argmax(pred)]\n",
    "    \n",
    "    if output_class == 'TB':\n",
    "        soma+=1\n",
    "    else:\n",
    "        diagnostico_errado_TB2.append(TB2_images[i])\n",
    "\n",
    "tamanho = len(TB2_images)\n",
    "porcentagem = 100*soma/tamanho\n",
    "string = f'a porcentagem de acertos foi {porcentagem}'\n",
    "\n",
    "print(string)"
   ]
  },
  {
   "cell_type": "code",
   "execution_count": 153,
   "id": "a1e2bef8",
   "metadata": {},
   "outputs": [
    {
     "name": "stdout",
     "output_type": "stream",
     "text": [
      "['MCUCXR_0104_1.png', 'MCUCXR_0108_1.png', 'MCUCXR_0113_1.png', 'MCUCXR_0117_1.png', 'MCUCXR_0126_1.png', 'MCUCXR_0140_1.png', 'MCUCXR_0141_1.png', 'MCUCXR_0142_1.png', 'MCUCXR_0144_1.png', 'MCUCXR_0150_1.png', 'MCUCXR_0162_1.png', 'MCUCXR_0166_1.png', 'MCUCXR_0170_1.png', 'MCUCXR_0173_1.png', 'MCUCXR_0182_1.png', 'MCUCXR_0188_1.png', 'MCUCXR_0194_1.png', 'MCUCXR_0195_1.png', 'MCUCXR_0196_1.png', 'MCUCXR_0203_1.png', 'MCUCXR_0213_1.png', 'MCUCXR_0218_1.png', 'MCUCXR_0223_1.png', 'MCUCXR_0228_1.png', 'MCUCXR_0243_1.png', 'MCUCXR_0251_1.png', 'MCUCXR_0253_1.png', 'MCUCXR_0254_1.png', 'MCUCXR_0255_1.png', 'MCUCXR_0258_1.png', 'MCUCXR_0264_1.png', 'MCUCXR_0266_1.png', 'MCUCXR_0275_1.png', 'MCUCXR_0282_1.png', 'MCUCXR_0289_1.png', 'MCUCXR_0294_1.png', 'MCUCXR_0301_1.png', 'MCUCXR_0309_1.png', 'MCUCXR_0311_1.png', 'MCUCXR_0313_1.png', 'MCUCXR_0316_1.png', 'MCUCXR_0331_1.png', 'MCUCXR_0334_1.png', 'MCUCXR_0338_1.png', 'MCUCXR_0348_1.png', 'MCUCXR_0350_1.png', 'MCUCXR_0352_1.png', 'MCUCXR_0354_1.png', 'MCUCXR_0362_1.png', 'MCUCXR_0367_1.png', 'MCUCXR_0369_1.png', 'MCUCXR_0372_1.png', 'MCUCXR_0375_1.png', 'MCUCXR_0383_1.png', 'MCUCXR_0387_1.png', 'MCUCXR_0390_1.png', 'MCUCXR_0393_1.png', 'MCUCXR_0399_1.png']\n"
     ]
    }
   ],
   "source": [
    "print(diagnostico_errado_TB2)"
   ]
  }
 ],
 "metadata": {
  "kernelspec": {
   "display_name": "Python 3",
   "language": "python",
   "name": "python3"
  },
  "language_info": {
   "codemirror_mode": {
    "name": "ipython",
    "version": 3
   },
   "file_extension": ".py",
   "mimetype": "text/x-python",
   "name": "python",
   "nbconvert_exporter": "python",
   "pygments_lexer": "ipython3",
   "version": "3.8.8"
  }
 },
 "nbformat": 4,
 "nbformat_minor": 5
}
